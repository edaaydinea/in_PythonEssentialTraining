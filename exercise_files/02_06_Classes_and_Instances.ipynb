{
 "cells": [
  {
   "cell_type": "markdown",
   "id": "7e7cecd6",
   "metadata": {},
   "source": [
    "## Classes\n",
    "\n",
    "Think of a class as a blueprint for creating objects, similar to a recipe for baking cookies: \n",
    "\n",
    "- Class (Blueprint): Defines what the object should be like (e.g. ingredients, and steps in a recipe)\n",
    "- Object(Instance): The actual item created using the blueprint (e.g. the baked cookies)"
   ]
  },
  {
   "cell_type": "code",
   "execution_count": 2,
   "id": "d5cde69b",
   "metadata": {},
   "outputs": [],
   "source": [
    "# defines a new class called Dog\n",
    "class Dog: \n",
    "    # A special method to initialize objects. \n",
    "    def __init__(self, name):\n",
    "        # It sets up attributes like name and legs.\n",
    "        # self refers to the specific instance of the class.\n",
    "        self.name = name\n",
    "        self.legs = 4\n",
    "    \n",
    "    def speak(self):\n",
    "        # A method that prints a message.\n",
    "        print(self.name + ' says: Bark!')\n",
    "        \n"
   ]
  },
  {
   "cell_type": "markdown",
   "id": "2bf4a047",
   "metadata": {},
   "source": [
    "### Creating Objects"
   ]
  },
  {
   "cell_type": "code",
   "execution_count": 3,
   "id": "5b3dde35",
   "metadata": {},
   "outputs": [],
   "source": [
    "# these are objects (instances) of the Dog class\n",
    "my_dog = Dog('Rover')\n",
    "another_dog = Dog('Fluffy')"
   ]
  },
  {
   "cell_type": "markdown",
   "id": "9add08f3",
   "metadata": {},
   "source": [
    "### Using Methods"
   ]
  },
  {
   "cell_type": "code",
   "execution_count": 4,
   "id": "ceed1af6",
   "metadata": {},
   "outputs": [
    {
     "name": "stdout",
     "output_type": "stream",
     "text": [
      "Rover says: Bark!\n"
     ]
    }
   ],
   "source": [
    "# Outputs: Rover says bark\n",
    "my_dog.speak()"
   ]
  },
  {
   "cell_type": "code",
   "execution_count": 5,
   "id": "b85ea67b",
   "metadata": {},
   "outputs": [
    {
     "name": "stdout",
     "output_type": "stream",
     "text": [
      "Fluffy says: Bark!\n"
     ]
    }
   ],
   "source": [
    "# Outputs: Fluffy says bark\n",
    "another_dog.speak()"
   ]
  }
 ],
 "metadata": {
  "kernelspec": {
   "display_name": "Python 3 (ipykernel)",
   "language": "python",
   "name": "python3"
  },
  "language_info": {
   "codemirror_mode": {
    "name": "ipython",
    "version": 3
   },
   "file_extension": ".py",
   "mimetype": "text/x-python",
   "name": "python",
   "nbconvert_exporter": "python",
   "pygments_lexer": "ipython3",
   "version": "3.12.5"
  }
 },
 "nbformat": 4,
 "nbformat_minor": 5
}
