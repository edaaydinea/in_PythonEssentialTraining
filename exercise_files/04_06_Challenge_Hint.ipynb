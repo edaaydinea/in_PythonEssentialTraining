{
 "cells": [
  {
   "cell_type": "markdown",
   "id": "6a6c3649",
   "metadata": {},
   "source": [
    "## ASCII Art Encoding\n"
   ]
  },
  {
   "cell_type": "markdown",
   "id": "47490f41",
   "metadata": {},
   "source": [
    "### Challenge Hints!"
   ]
  },
  {
   "cell_type": "markdown",
   "id": "a8c64bd5",
   "metadata": {},
   "source": [
    "**Hint 1:** While iterating through each character of a string, we can print out when a string has \"switched\" from one character to another:"
   ]
  },
  {
   "cell_type": "code",
   "execution_count": 1,
   "id": "c3d70033",
   "metadata": {},
   "outputs": [
    {
     "name": "stdout",
     "output_type": "stream",
     "text": [
      "New character is A\n",
      "New character is B\n",
      "New character is C\n"
     ]
    }
   ],
   "source": [
    "stringVal = 'AAAAABBBBBCCCCC'\n",
    "\n",
    "prevChar = None\n",
    "for char in stringVal:\n",
    "    if char != prevChar:\n",
    "        print(f'New character is {char}')\n",
    "    prevChar = char"
   ]
  },
  {
   "cell_type": "markdown",
   "id": "54ce72f7",
   "metadata": {},
   "source": [
    "**Hint 2:** Remember that you can multiply a string by a number!"
   ]
  },
  {
   "cell_type": "code",
   "execution_count": 2,
   "id": "7ab4bd96",
   "metadata": {},
   "outputs": [
    {
     "data": {
      "text/plain": [
       "'AAAAA'"
      ]
     },
     "execution_count": 2,
     "metadata": {},
     "output_type": "execute_result"
    }
   ],
   "source": [
    "'A'*5"
   ]
  },
  {
   "cell_type": "code",
   "execution_count": 3,
   "id": "7777d38e",
   "metadata": {},
   "outputs": [],
   "source": [
    "# Python code​​​​​​‌​‌‌‌​‌​‌‌‌‌​​‌​​‌​‌‌‌‌​​ below\n",
    "\n",
    "def encodeString(stringVal):\n",
    "    if not stringVal:\n",
    "        return []\n",
    "\n",
    "    encodedList = []\n",
    "    prevChar = stringVal[0]\n",
    "    count = 1\n",
    "\n",
    "    for char in stringVal[1:]:\n",
    "        if char == prevChar:\n",
    "            count += 1\n",
    "        else:\n",
    "            encodedList.append((prevChar, count))\n",
    "            prevChar = char\n",
    "            count = 1\n",
    "\n",
    "    # Append the last character and its count\n",
    "    encodedList.append((prevChar, count))\n",
    "\n",
    "    return encodedList\n",
    "\n",
    "def decodeString(encodedList):\n",
    "    decodedString = ''\n",
    "\n",
    "    for char, count in encodedList:\n",
    "        decodedString += char * count\n",
    "\n",
    "    return decodedString\n",
    "\n"
   ]
  },
  {
   "cell_type": "code",
   "execution_count": 4,
   "id": "3eee6256",
   "metadata": {},
   "outputs": [],
   "source": [
    "art = '''\n",
    "\n",
    "                                                                                \n",
    "                                                                                \n",
    "                               %%%%%%%%%%%%%%%%%%%                              \n",
    "                        %%%%%%%%%%%%%%%%%%%%%%%%%%%%%%%%%                       \n",
    "                    %%%%%%%%                         %%%%%%%%                   \n",
    "                %%%%%%%                                   %%%%%%                \n",
    "              %%%%%%                                         %%%%%%             \n",
    "           %%%%%%                                               %%%%%           \n",
    "          %%%%%                                                   %%%%%         \n",
    "        %%%%%                                                       %%%%%       \n",
    "       %%%%                 %%%%%              %%%%%                  %%%%      \n",
    "      %%%%                 %%%%%%%            %%%%%%%                  %%%%     \n",
    "     %%%%                  %%%%%%%            %%%%%%%                   %%%%    \n",
    "    %%%%                   %%%%%%%            %%%%%%%                    %%%%   \n",
    "    %%%%                    %%%%%              %%%%%                     %%%%   \n",
    "   %%%%                                                                   %%%%  \n",
    "   %%%%                                                                   %%%%  \n",
    "   %%%%                                                                   %%%%  \n",
    "   %%%%                                                      %%%%        %%%%   \n",
    "    %%%%       %%%%%%                                        %%%%%       %%%%   \n",
    "    %%%%         %%%%                                       %%%%        %%%%    \n",
    "     %%%%         %%%%                                     %%%%         %%%%    \n",
    "      %%%%         %%%%%                                  %%%%         %%%%     \n",
    "       %%%%%         %%%%%                             %%%%%         %%%%%      \n",
    "        %%%%%          %%%%%%                        %%%%%          %%%%        \n",
    "          %%%%%           %%%%%%%               %%%%%%%           %%%%%         \n",
    "            %%%%%             %%%%%%%%%%%%%%%%%%%%%             %%%%%           \n",
    "              %%%%%%%                                        %%%%%              \n",
    "                 %%%%%%%                                 %%%%%%%                \n",
    "                     %%%%%%%%%                     %%%%%%%%%                    \n",
    "                          %%%%%%%%%%%%%%%%%%%%%%%%%%%%%                         \n",
    "                                   %%%%%%%%%%%%                                 \n",
    "                                                                                \n",
    "                                                                                 \n",
    "\n",
    "'''"
   ]
  },
  {
   "cell_type": "code",
   "execution_count": 5,
   "id": "dec27033",
   "metadata": {},
   "outputs": [],
   "source": [
    "encodedString = encodeString(art)"
   ]
  },
  {
   "cell_type": "code",
   "execution_count": 6,
   "id": "942d4ff8",
   "metadata": {},
   "outputs": [
    {
     "data": {
      "text/plain": [
       "'\\n\\n                                                                                \\n                                                                                \\n                               %%%%%%%%%%%%%%%%%%%                              \\n                        %%%%%%%%%%%%%%%%%%%%%%%%%%%%%%%%%                       \\n                    %%%%%%%%                         %%%%%%%%                   \\n                %%%%%%%                                   %%%%%%                \\n              %%%%%%                                         %%%%%%             \\n           %%%%%%                                               %%%%%           \\n          %%%%%                                                   %%%%%         \\n        %%%%%                                                       %%%%%       \\n       %%%%                 %%%%%              %%%%%                  %%%%      \\n      %%%%                 %%%%%%%            %%%%%%%                  %%%%     \\n     %%%%                  %%%%%%%            %%%%%%%                   %%%%    \\n    %%%%                   %%%%%%%            %%%%%%%                    %%%%   \\n    %%%%                    %%%%%              %%%%%                     %%%%   \\n   %%%%                                                                   %%%%  \\n   %%%%                                                                   %%%%  \\n   %%%%                                                                   %%%%  \\n   %%%%                                                      %%%%        %%%%   \\n    %%%%       %%%%%%                                        %%%%%       %%%%   \\n    %%%%         %%%%                                       %%%%        %%%%    \\n     %%%%         %%%%                                     %%%%         %%%%    \\n      %%%%         %%%%%                                  %%%%         %%%%     \\n       %%%%%         %%%%%                             %%%%%         %%%%%      \\n        %%%%%          %%%%%%                        %%%%%          %%%%        \\n          %%%%%           %%%%%%%               %%%%%%%           %%%%%         \\n            %%%%%             %%%%%%%%%%%%%%%%%%%%%             %%%%%           \\n              %%%%%%%                                        %%%%%              \\n                 %%%%%%%                                 %%%%%%%                \\n                     %%%%%%%%%                     %%%%%%%%%                    \\n                          %%%%%%%%%%%%%%%%%%%%%%%%%%%%%                         \\n                                   %%%%%%%%%%%%                                 \\n                                                                                \\n                                                                                 \\n\\n'"
      ]
     },
     "execution_count": 6,
     "metadata": {},
     "output_type": "execute_result"
    }
   ],
   "source": [
    "decodeString(encodedString)"
   ]
  }
 ],
 "metadata": {
  "kernelspec": {
   "display_name": "Python 3 (ipykernel)",
   "language": "python",
   "name": "python3"
  },
  "language_info": {
   "codemirror_mode": {
    "name": "ipython",
    "version": 3
   },
   "file_extension": ".py",
   "mimetype": "text/x-python",
   "name": "python",
   "nbconvert_exporter": "python",
   "pygments_lexer": "ipython3",
   "version": "3.12.5"
  },
  "vscode": {
   "interpreter": {
    "hash": "949777d72b0d2535278d3dc13498b2535136f6dfe0678499012e853ee9abcab1"
   }
  }
 },
 "nbformat": 4,
 "nbformat_minor": 5
}
