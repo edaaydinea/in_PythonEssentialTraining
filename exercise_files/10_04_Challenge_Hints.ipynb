{
 "cells": [
  {
   "cell_type": "markdown",
   "id": "b8bb2983",
   "metadata": {},
   "source": [
    "## ASCII Art Compression\n"
   ]
  },
  {
   "cell_type": "markdown",
   "id": "a354bdd4",
   "metadata": {},
   "source": [
    "**HINT 1:** Doing something like this will technically meet the requirements of this challenge:"
   ]
  },
  {
   "cell_type": "code",
   "execution_count": null,
   "id": "312efa3a",
   "metadata": {},
   "outputs": [],
   "source": [
    "json.dumps(encodeString(text))"
   ]
  },
  {
   "cell_type": "markdown",
   "id": "df78ab6f",
   "metadata": {},
   "source": [
    "However, I hope you can find a more efficient compression algorithm than that!"
   ]
  },
  {
   "cell_type": "markdown",
   "id": "8ae1d0ad",
   "metadata": {},
   "source": [
    "**HINT 2:** Writing a list of tuples, there are a lot of instances of \"),(\" and lots of extra quotes and things, which is a lot of characters to devote to where perhaps a single comma would suffice..."
   ]
  },
  {
   "cell_type": "markdown",
   "id": "a13f0f7b",
   "metadata": {},
   "source": [
    "**HINT 3:** If you're looking for a longer challenge, you can look into writing bytes to a file. This is absolutely not necessary, however!"
   ]
  },
  {
   "cell_type": "code",
   "execution_count": 2,
   "id": "0ec1174a",
   "metadata": {
    "ExecuteTime": {
     "end_time": "2024-09-08T21:48:32.455631Z",
     "start_time": "2024-09-08T21:48:32.450116Z"
    }
   },
   "outputs": [],
   "source": [
    "import os\n",
    "\n",
    "def encodeString(stringVal):\n",
    "    encodedList = []\n",
    "    prevChar = None\n",
    "    count = 0\n",
    "    for char in stringVal:\n",
    "        if prevChar != char and prevChar is not None:\n",
    "            encodedList.append((prevChar, count))\n",
    "            count = 0\n",
    "        prevChar = char\n",
    "        count = count + 1\n",
    "    encodedList.append((prevChar, count))\n",
    "    return encodedList\n",
    "\n",
    "def decodeString(encodedList):\n",
    "    decodedStr = ''\n",
    "    for item in encodedList:\n",
    "        decodedStr = decodedStr + item[0] * item[1]\n",
    "    return decodedStr"
   ]
  },
  {
   "cell_type": "code",
   "execution_count": 1,
   "id": "d4bb1637",
   "metadata": {
    "ExecuteTime": {
     "end_time": "2024-09-08T21:48:25.388207Z",
     "start_time": "2024-09-08T21:48:24.896672Z"
    }
   },
   "outputs": [
    {
     "ename": "NameError",
     "evalue": "name 's' is not defined",
     "output_type": "error",
     "traceback": [
      "\u001b[1;31m---------------------------------------------------------------------------\u001b[0m",
      "\u001b[1;31mNameError\u001b[0m                                 Traceback (most recent call last)",
      "Cell \u001b[1;32mIn[1], line 9\u001b[0m\n\u001b[0;32m      5\u001b[0m \u001b[38;5;28;01mdef\u001b[39;00m \u001b[38;5;21mdecodeFile\u001b[39m(filename):\n\u001b[0;32m      6\u001b[0m     \u001b[38;5;66;03m# Your code here!\u001b[39;00m\n\u001b[0;32m      7\u001b[0m     \u001b[38;5;28;01mpass\u001b[39;00m\n\u001b[1;32m----> 9\u001b[0m \u001b[43ms\u001b[49m\n",
      "\u001b[1;31mNameError\u001b[0m: name 's' is not defined"
     ]
    }
   ],
   "source": [
    "def encodeFile(filename, newFilename):\n",
    "    with open(filename, 'r') as file:\n",
    "        content = file.read()\n",
    "    \n",
    "    encodedContent = encodeString(content)\n",
    "    \n",
    "    with open(newFilename, 'w') as newFile:\n",
    "        json.dump(encodedContent, newFile)\n",
    "\n",
    "def decodeFile(filename):\n",
    "    with open(filename, 'r') as file:\n",
    "        encodedContent = json.load(file)\n",
    "    \n",
    "    decodedContent = decodeString(encodedContent)\n",
    "    \n",
    "    return decodedContent\n",
    "s"
   ]
  },
  {
   "cell_type": "code",
   "execution_count": 10,
   "id": "2740024f",
   "metadata": {},
   "outputs": [
    {
     "name": "stdout",
     "output_type": "stream",
     "text": [
      "Original file size: 2757\n",
      "New file size: 1007\n"
     ]
    }
   ],
   "source": [
    "print(f'Original file size: {os.path.getsize(\"10_04_challenge_art.txt\")}')\n",
    "\n",
    "encodeFile('10_04_challenge_art.txt', '10_04_challenge_art_encoded.txt')\n",
    "\n",
    "print(f'New file size: {os.path.getsize(\"10_04_challenge_art_encoded.txt\")}')\n",
    "\n",
    "\n",
    "\n",
    "\n"
   ]
  },
  {
   "cell_type": "code",
   "execution_count": 11,
   "id": "985e9278",
   "metadata": {},
   "outputs": [],
   "source": [
    "decodeFile('10_04_challenge_art_encoded.txt')"
   ]
  },
  {
   "cell_type": "code",
   "execution_count": null,
   "id": "9fe8cf03",
   "metadata": {},
   "outputs": [],
   "source": []
  }
 ],
 "metadata": {
  "kernelspec": {
   "display_name": "Python 3 (ipykernel)",
   "language": "python",
   "name": "python3"
  },
  "language_info": {
   "codemirror_mode": {
    "name": "ipython",
    "version": 3
   },
   "file_extension": ".py",
   "mimetype": "text/x-python",
   "name": "python",
   "nbconvert_exporter": "python",
   "pygments_lexer": "ipython3",
   "version": "3.12.5"
  },
  "vscode": {
   "interpreter": {
    "hash": "949777d72b0d2535278d3dc13498b2535136f6dfe0678499012e853ee9abcab1"
   }
  }
 },
 "nbformat": 4,
 "nbformat_minor": 5
}
